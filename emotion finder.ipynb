{
 "cells": [
  {
   "cell_type": "code",
   "execution_count": null,
   "id": "b37dce74-c369-496e-a564-66fa74dfad2d",
   "metadata": {},
   "outputs": [],
   "source": [
    "!pip install keras\n",
    "!pip install tensorflow"
   ]
  },
  {
   "cell_type": "code",
   "execution_count": null,
   "id": "ff37fc1b-638a-45a5-a65b-c9650a7325de",
   "metadata": {},
   "outputs": [],
   "source": [
    "!pip install opencv-python"
   ]
  },
  {
   "cell_type": "code",
   "execution_count": null,
   "id": "e826ec44-550a-45fd-9135-86d887d6de7c",
   "metadata": {},
   "outputs": [],
   "source": [
    "\n",
    "from keras.models import load_model\n",
    "from time import sleep\n",
    "from keras.preprocessing.image import img_to_array\n",
    "from keras.preprocessing import image\n",
    "import cv2\n",
    "import numpy as np\n",
    "import tensorflow as tf\n",
    "from keras.metrics import MeanSquaredError\n"
   ]
  },
  {
   "cell_type": "code",
   "execution_count": null,
   "id": "dcb6ec91-1485-4c48-bc48-93675ab36d42",
   "metadata": {},
   "outputs": [],
   "source": [
    "\n",
    "face_classifier = cv2.CascadeClassifier(r'haarcascade_frontalface_default.xml')\n",
    "emotion_model = load_model(r'emotion_detection_model_100epochs.keras')\n",
    "age_model = load_model(r'age_model_50epochs.keras', custom_objects={'mse': MeanSquaredError()})\n",
    "gender_model = load_model(r'gender_model_50epochs.keras')\n",
    "\n",
    "class_labels = ['angry', 'contempt', 'disgust', 'fear', 'happy','sadness', 'surprised']\n",
    "gender_labels = ['Male','Female']\n",
    "\n",
    "\n"
   ]
  },
  {
   "cell_type": "code",
   "execution_count": null,
   "id": "e1cacc30-cf01-40bf-bb0c-e50f9cdaf78e",
   "metadata": {},
   "outputs": [],
   "source": [
    "\n",
    "\n",
    "import cv2\n",
    "cap = cv2.VideoCapture(0)\n",
    "while True:\n",
    "  ret,frame = cap.read()\n",
    "  labels=[]\n",
    "  gray = cv2.cvtColor(frame,cv2.COLOR_BGR2GRAY)\n",
    "  faces = face_classifier.detectMultiScale(gray,1.3,5)\n",
    "\n",
    "  for(x,y,w,h) in faces:\n",
    "    cv2.rectangle(frame,(x,y),(x+w,y+h),(255,255,0),2)\n",
    "    roi_gray = gray[y:y+h,x:x+w]\n",
    "    roi_gray = cv2.resize(roi_gray,(48,48),interpolation=cv2.INTER_AREA)\n",
    "\n",
    "\n",
    "    roi = roi_gray.astype('float')/255.0\n",
    "    roi = img_to_array(roi)\n",
    "    roi = np.expand_dims(roi,axis=0)\n",
    "\n",
    "    preds = emotion_model.predict(roi)[0]\n",
    "    label = class_labels[preds.argmax()]\n",
    "    label_position = (x,y)\n",
    "    cv2.putText(frame,label,label_position,cv2.FACE_RECOGNIZER_SF_FR_COSINE,1,(0,255,255),2)\n",
    "\n",
    "    roi_color = frame[y:y+h,x:x+w]\n",
    "    roi_color = cv2.resize(roi_color,(100,100),interpolation=cv2.INTER_AREA)\n",
    "    roi_color = roi_color.astype('float32') / 255.0\n",
    "    roi_color_exp = np.expand_dims(roi_color, axis=0)\n",
    "    \n",
    "    gender_predict = gender_model.predict(roi_color_exp)\n",
    "    gender_predict = (gender_predict>=0.5).astype(int)[:,0]\n",
    "    gender_label = gender_labels[gender_predict[0]]\n",
    "    gender_label_position = (x,y+h+50)\n",
    "    cv2.putText(frame,gender_label,gender_label_position,cv2.FACE_RECOGNIZER_SF_FR_COSINE,1,(0,255,255),2)\n",
    "\n",
    "    age_predict = age_model.predict(roi_color_exp)\n",
    "    age = round(age_predict[0,0])\n",
    "    age_label_position = (x+h,y+h)\n",
    "    cv2.putText(frame,\"Age =\"+str(age),age_label_position,cv2.FACE_RECOGNIZER_SF_FR_COSINE,1,(0,255,255),2)\n",
    "\n",
    "  cv2.imshow('emotion Detector',frame)\n",
    "  if cv2.waitKey(1) & 0xFF == ord('q'):\n",
    "    break\n",
    "cap.release()\n",
    "cv2.destroyAllWindows()"
   ]
  },
  {
   "cell_type": "code",
   "execution_count": null,
   "id": "7608f06a-5b63-4e9e-a66a-95465880bae2",
   "metadata": {},
   "outputs": [],
   "source": []
  }
 ],
 "metadata": {
  "kernelspec": {
   "display_name": "Python (TensorFlow)",
   "language": "python",
   "name": "tf_env"
  },
  "language_info": {
   "codemirror_mode": {
    "name": "ipython",
    "version": 3
   },
   "file_extension": ".py",
   "mimetype": "text/x-python",
   "name": "python",
   "nbconvert_exporter": "python",
   "pygments_lexer": "ipython3",
   "version": "3.10.9"
  }
 },
 "nbformat": 4,
 "nbformat_minor": 5
}
